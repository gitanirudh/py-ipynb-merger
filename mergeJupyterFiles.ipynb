{
 "cells": [
  {
   "cell_type": "code",
   "execution_count": 4,
   "metadata": {},
   "outputs": [
    {
     "name": "stdout",
     "output_type": "stream",
     "text": [
      "Merged Python script saved as: merged_output.py\n",
      "Merged Jupyter notebook saved as: merged_output.ipynb\n"
     ]
    },
    {
     "name": "stderr",
     "output_type": "stream",
     "text": [
      "C:\\Users\\aniru\\AppData\\Local\\Programs\\Python\\Python311\\Lib\\site-packages\\nbformat\\__init__.py:132: MissingIDFieldWarning: Cell is missing an id field, this will become a hard error in future nbformat versions. You may want to use `normalize()` on your notebooks before validations (available since nbformat 5.1.4). Previous versions of nbformat are fixing this issue transparently, and will stop doing so in the future.\n",
      "  validate(nb)\n"
     ]
    }
   ],
   "source": [
    "import os\n",
    "import nbformat\n",
    "\n",
    "CONTACT_EMAIL = \"mhaskeanirudh@gmail.com\"  # Contact email in case of issues\n",
    "\n",
    "def merge_py_files(folder_path, output_file=\"merged_script.py\"):\n",
    "    \"\"\"Merge all .py files in the specified folder into one.\"\"\"\n",
    "    try:\n",
    "        py_files = sorted([f for f in os.listdir(folder_path) if f.endswith(\".py\")])\n",
    "\n",
    "        with open(output_file, \"w\", encoding=\"utf-8\") as outfile:\n",
    "            for file in py_files:\n",
    "                file_path = os.path.join(folder_path, file)\n",
    "                with open(file_path, \"r\", encoding=\"utf-8\") as infile:\n",
    "                    outfile.write(f\"# Merging file: {file}\\n\")\n",
    "                    outfile.write(infile.read() + \"\\n\\n\")\n",
    "\n",
    "        print(f\"Merged Python script saved as: {output_file}\")\n",
    "\n",
    "    except Exception as e:\n",
    "        print(f\"Error merging Python files: {e}\")\n",
    "        print(f\"If the issue persists, contact: {CONTACT_EMAIL}\")\n",
    "\n",
    "def merge_ipynb_files(folder_path, output_file=\"merged_notebook.ipynb\"):\n",
    "    \"\"\"Merge all .ipynb files in the specified folder into one.\"\"\"\n",
    "    try:\n",
    "        ipynb_files = sorted([f for f in os.listdir(folder_path) if f.endswith(\".ipynb\")])\n",
    "\n",
    "        merged_nb = nbformat.v4.new_notebook()\n",
    "\n",
    "        for file in ipynb_files:\n",
    "            file_path = os.path.join(folder_path, file)\n",
    "            with open(file_path, \"r\", encoding=\"utf-8\") as infile:\n",
    "                nb = nbformat.read(infile, as_version=4)\n",
    "                merged_nb.cells.extend(nb.cells)\n",
    "\n",
    "        with open(output_file, \"w\", encoding=\"utf-8\") as outfile:\n",
    "            nbformat.write(merged_nb, outfile)\n",
    "\n",
    "        print(f\"Merged Jupyter notebook saved as: {output_file}\")\n",
    "\n",
    "    except Exception as e:\n",
    "        print(f\"Error merging Jupyter notebooks: {e}\")\n",
    "        print(f\"If the issue persists, contact: {CONTACT_EMAIL}\")\n",
    "\n",
    "# Change 'your_folder_path' to the directory containing your files\n",
    "folder_path = r\"C:\\Users\\aniru\\OneDrive\\Desktop\\New folder\"\n",
    "\n",
    "try:\n",
    "    merge_py_files(folder_path, \"merged_output.py\")\n",
    "    merge_ipynb_files(folder_path, \"merged_output.ipynb\")\n",
    "except Exception as e:\n",
    "    print(f\"Unexpected error: {e}\")\n",
    "    print(f\"If the issue persists, contact: {CONTACT_EMAIL}\")\n"
   ]
  }
 ],
 "metadata": {
  "kernelspec": {
   "display_name": "Python 3 (ipykernel)",
   "language": "python",
   "name": "python3"
  },
  "language_info": {
   "codemirror_mode": {
    "name": "ipython",
    "version": 3
   },
   "file_extension": ".py",
   "mimetype": "text/x-python",
   "name": "python",
   "nbconvert_exporter": "python",
   "pygments_lexer": "ipython3",
   "version": "3.11.8"
  }
 },
 "nbformat": 4,
 "nbformat_minor": 4
}
